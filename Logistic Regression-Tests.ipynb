{
 "cells": [
  {
   "cell_type": "code",
   "execution_count": 1,
   "metadata": {},
   "outputs": [],
   "source": [
    "import torch\n",
    "from torch.autograd import Variable\n",
    "import torchvision.transforms as transforms\n",
    "import torchvision.datasets as dsets\n",
    "import OPTAMI as opt\n",
    "import matplotlib.pyplot as plt\n",
    "import math\n",
    "import numpy as np"
   ]
  },
  {
   "cell_type": "code",
   "execution_count": 2,
   "metadata": {},
   "outputs": [],
   "source": [
    "x = torch.tensor([1.,2.])#.to(torch.double)\n",
    "\n",
    "x.requires_grad_()\n",
    "#y = torch.tensor([2.])#.to(torch.double)\n",
    "#y.requires_grad_()\n",
    "def f(x):\n",
    "    return x.square().square().sum()\n",
    "    \n",
    "L1 = 24\n",
    "def g(x):\n",
    "    return x.square().mul(x).mul(4.)"
   ]
  },
  {
   "cell_type": "code",
   "execution_count": 3,
   "metadata": {},
   "outputs": [
    {
     "name": "stdout",
     "output_type": "stream",
     "text": [
      "End of line search. Total line_search calc: 1\n",
      "theta after ls 0.25\n",
      "End of line search. Total line_search calc: 3\n",
      "theta after ls 0.34375\n",
      "End of line search. Total line_search calc: 4\n",
      "theta after ls 0.34375\n",
      "End of line search. Total line_search calc: 1\n",
      "theta after ls 0.34375\n",
      "End of line search. Total line_search calc: 1\n",
      "theta after ls 0.34375\n",
      "End of line search. Total line_search calc: 1\n",
      "theta after ls 0.34375\n",
      "End of line search. Total line_search calc: 1\n",
      "theta after ls 0.34375\n",
      "End of line search. Total line_search calc: 1\n",
      "theta after ls 0.34375\n",
      "End of line search. Total line_search calc: 1\n",
      "theta after ls 0.34375\n",
      "End of line search. Total line_search calc: 1\n",
      "theta after ls 0.34375\n",
      "End of line search. Total line_search calc: 1\n",
      "theta after ls 0.34375\n",
      "End of line search. Total line_search calc: 1\n",
      "theta after ls 0.34375\n",
      "End of line search. Total line_search calc: 1\n",
      "theta after ls 0.34375\n",
      "End of line search. Total line_search calc: 1\n",
      "theta after ls 0.34375\n",
      "End of line search. Total line_search calc: 1\n",
      "theta after ls 0.34375\n",
      "End of line search. Total line_search calc: 1\n",
      "theta after ls 0.34375\n",
      "End of line search. Total line_search calc: 1\n",
      "theta after ls 0.34375\n",
      "End of line search. Total line_search calc: 1\n",
      "theta after ls 0.34375\n",
      "End of line search. Total line_search calc: 1\n",
      "theta after ls 0.34375\n",
      "End of line search. Total line_search calc: 1\n",
      "theta after ls 0.34375\n",
      "End of line search. Total line_search calc: 1\n",
      "theta after ls 0.34375\n",
      "End of line search. Total line_search calc: 1\n",
      "theta after ls 0.064453125\n",
      "End of line search. Total line_search calc: 5\n",
      "theta after ls 0.5980072021484375\n",
      "End of line search. Total line_search calc: 8\n",
      "theta after ls 0.4485054016113281\n",
      "End of line search. Total line_search calc: 3\n",
      "theta after ls 0.775955319404602\n",
      "End of line search. Total line_search calc: 6\n",
      "theta after ls 0.5334692820906639\n",
      "End of line search. Total line_search calc: 5\n",
      "theta after ls 0.8651434643543325\n",
      "End of line search. Total line_search calc: 8\n",
      "theta after ls 0.8245898644627232\n",
      "End of line search. Total line_search calc: 7\n",
      "theta after ls 0.893109448656972\n",
      "End of line search. Total line_search calc: 7\n"
     ]
    }
   ],
   "source": [
    "optimizer = opt.Hyperfast([x], L = L1)\n",
    "losses = []\n",
    "def closure():\n",
    "    optimizer.zero_grad()\n",
    "    loss = f(x) #+ f(y)\n",
    "    \n",
    "    return loss\n",
    "for i in range(30):\n",
    "    loss = closure()\n",
    "    losses.append(loss.clone().detach().item())\n",
    "    \n",
    "    optimizer.step(closure)\n"
   ]
  },
  {
   "cell_type": "code",
   "execution_count": 4,
   "metadata": {},
   "outputs": [
    {
     "name": "stdout",
     "output_type": "stream",
     "text": [
      "tensor(3.0912e-19, grad_fn=<SumBackward0>) tensor([8.5706e-06, 2.3476e-05], requires_grad=True)\n"
     ]
    }
   ],
   "source": [
    "loss = closure()\n",
    "print(loss, x)"
   ]
  },
  {
   "cell_type": "code",
   "execution_count": 5,
   "metadata": {},
   "outputs": [
    {
     "name": "stdout",
     "output_type": "stream",
     "text": [
      "[17.0, 3.263576030731201, 1.103547215461731, 0.2410891354084015, 0.03830212727189064, 0.00394891994073987, 0.00034023879561573267, 3.373882645973936e-05, 4.239818281348562e-06, 5.997312086947204e-07, 7.997839190920786e-08, 9.26828036540428e-09, 9.90675985690359e-10, 1.0897535651643864e-10, 1.2979778710175971e-11, 1.6241099177333185e-12, 2.0056604489206153e-13, 2.3697911715652234e-14, 2.7048082876105287e-15, 3.085565267510861e-16, 3.7251499859896814e-17, 4.922661840324537e-18, 4.2658950130157295e-19, 1.413479380641166e-19, 3.135838600261231e-19, 1.3351077657639172e-19, 3.343935528888493e-19, 9.278958621154969e-20, 3.4826020188253513e-19, 1.987433124321804e-19]\n"
     ]
    }
   ],
   "source": [
    "print(losses)"
   ]
  },
  {
   "cell_type": "code",
   "execution_count": 6,
   "metadata": {},
   "outputs": [
    {
     "data": {
      "text/plain": "[<matplotlib.lines.Line2D at 0x7ff4b8f2cdf0>]"
     },
     "execution_count": 6,
     "metadata": {},
     "output_type": "execute_result"
    },
    {
     "data": {
      "text/plain": "<Figure size 432x288 with 1 Axes>",
      "image/png": "[encoded data removed]"
     },
     "metadata": {
      "needs_background": "light"
     },
     "output_type": "display_data"
    }
   ],
   "source": [
    "plt.plot(np.log(losses))"
   ]
  },
  {
   "cell_type": "code",
   "execution_count": 7,
   "metadata": {},
   "outputs": [],
   "source": [
    "x = torch.tensor([1.,2.])#.to(torch.double)\n",
    "\n",
    "x.requires_grad_()\n",
    "\n",
    "optimizer = opt.BDGM([x], L = L1)\n",
    "losses_bdgm = []\n",
    "def closure():\n",
    "    optimizer.zero_grad()\n",
    "    loss = f(x) #+ f(y)\n",
    "    \n",
    "    return loss\n",
    "for i in range(30):\n",
    "    loss_bdgm = closure()\n",
    "    losses_bdgm.append(loss_bdgm.clone().detach().item())\n",
    "    \n",
    "    optimizer.step(closure)\n",
    "\n"
   ]
  },
  {
   "cell_type": "code",
   "execution_count": 8,
   "metadata": {},
   "outputs": [
    {
     "data": {
      "text/plain": "[<matplotlib.lines.Line2D at 0x7ff4b9050940>]"
     },
     "execution_count": 8,
     "metadata": {},
     "output_type": "execute_result"
    },
    {
     "data": {
      "text/plain": "<Figure size 432x288 with 1 Axes>",
      "image/png": "[encoded data removed]"
     },
     "metadata": {
      "needs_background": "light"
     },
     "output_type": "display_data"
    }
   ],
   "source": [
    "plt.plot(np.log(losses))\n",
    "plt.plot(np.log(losses_bdgm))"
   ]
  },
  {
   "cell_type": "code",
   "execution_count": null,
   "metadata": {},
   "outputs": [],
   "source": []
  }
 ],
 "metadata": {
  "kernelspec": {
   "display_name": "Python 3",
   "language": "python",
   "name": "python3"
  },
  "language_info": {
   "codemirror_mode": {
    "name": "ipython",
    "version": 3
   },
   "file_extension": ".py",
   "mimetype": "text/x-python",
   "name": "python",
   "nbconvert_exporter": "python",
   "pygments_lexer": "ipython3",
   "version": "3.7.4"
  }
 },
 "nbformat": 4,
 "nbformat_minor": 2
}