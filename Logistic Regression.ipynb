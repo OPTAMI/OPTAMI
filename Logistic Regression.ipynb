{
 "cells": [
  {
   "cell_type": "code",
   "execution_count": 1,
   "metadata": {},
   "outputs": [],
   "source": [
    "import torch\n",
    "from torch.autograd import Variable\n",
    "import torchvision.transforms as transforms\n",
    "import torchvision.datasets as dsets\n",
    "import OPTAMI as opt\n",
    "import time\n",
    "import matplotlib.pyplot as plt\n",
    "import math"
   ]
  },
  {
   "cell_type": "code",
   "execution_count": 2,
   "metadata": {},
   "outputs": [],
   "source": [
    "train_dataset = dsets.MNIST(root='./data', train=True, transform=transforms.ToTensor(), download=True)\n",
    "test_dataset = dsets.MNIST(root='./data', train=False, transform=transforms.ToTensor())"
   ]
  },
  {
   "cell_type": "code",
   "execution_count": 3,
   "metadata": {},
   "outputs": [],
   "source": [
    "batch_size = 4000\n",
    "n_iters = 10\n",
    "#epochs = n_iters / (len(train_dataset) / batch_size)\n",
    "epochs = 30\n",
    "input_dim = 784\n",
    "output_dim = 2\n",
    "lr_rate = 0.001"
   ]
  },
  {
   "cell_type": "code",
   "execution_count": 4,
   "metadata": {},
   "outputs": [],
   "source": [
    "train_loader = torch.utils.data.DataLoader(dataset=train_dataset, batch_size=batch_size, shuffle=False)\n",
    "test_loader = torch.utils.data.DataLoader(dataset=test_dataset, batch_size=batch_size, shuffle=False)"
   ]
  },
  {
   "cell_type": "code",
   "execution_count": 5,
   "metadata": {},
   "outputs": [],
   "source": [
    "class LogisticRegression(torch.nn.Module):\n",
    "    def __init__(self, input_dim, output_dim):\n",
    "        super(LogisticRegression, self).__init__()\n",
    "        self.linear = torch.nn.Linear(input_dim, output_dim)\n",
    "\n",
    "    def forward(self, x):\n",
    "        outputs = self.linear(x)\n",
    "        return outputs"
   ]
  },
  {
   "cell_type": "code",
   "execution_count": 6,
   "metadata": {},
   "outputs": [],
   "source": [
    "model = LogisticRegression(input_dim, output_dim)\n",
    "criterion = torch.nn.CrossEntropyLoss() # computes softmax and then the cross entropy\n",
    "#0 is a starting point\n",
    "with torch.no_grad():\n",
    "    for i in range(len(list(model.parameters()))):\n",
    "        list(model.parameters())[i].zero_()"
   ]
  },
  {
   "cell_type": "code",
   "execution_count": 7,
   "metadata": {},
   "outputs": [
    {
     "name": "stdout",
     "output_type": "stream",
     "text": [
      "loss= 0.693132221698761\n",
      "End of line search. Total line_search calc: 1\n",
      "loss= 0.4493096172809601\n",
      "theta after ls 0.3125\n",
      "End of line search. Total line_search calc: 5\n",
      "loss= 0.3623962104320526\n",
      "theta after ls 0.44140625\n",
      "End of line search. Total line_search calc: 5\n",
      "loss= 0.31920740008354187\n",
      "theta after ls 0.51123046875\n",
      "End of line search. Total line_search calc: 4\n",
      "loss= 0.29482951760292053\n",
      "theta after ls 0.57232666015625\n",
      "End of line search. Total line_search calc: 4\n",
      "loss= 0.2778145372867584\n",
      "theta after ls 0.6257858276367188\n",
      "End of line search. Total line_search calc: 4\n",
      "loss= 0.26509711146354675\n",
      "theta after ls 0.6725625991821289\n",
      "End of line search. Total line_search calc: 4\n",
      "loss= 0.25509530305862427\n",
      "theta after ls 0.7134922742843628\n",
      "End of line search. Total line_search calc: 4\n",
      "loss= 0.24699106812477112\n",
      "theta after ls 0.7493057399988174\n",
      "End of line search. Total line_search calc: 4\n",
      "loss= 0.24026978015899658\n",
      "theta after ls 0.7493057399988174\n",
      "End of line search. Total line_search calc: 1\n",
      "loss= 0.2342459261417389\n",
      "theta after ls 0.7806425224989653\n",
      "End of line search. Total line_search calc: 4\n",
      "loss= 0.22908438742160797\n",
      "theta after ls 0.7806425224989653\n",
      "End of line search. Total line_search calc: 1\n",
      "loss= 0.22435222566127777\n",
      "theta after ls 0.8080622071865946\n",
      "End of line search. Total line_search calc: 4\n",
      "loss= 0.22027723491191864\n",
      "theta after ls 0.8080622071865946\n",
      "End of line search. Total line_search calc: 1\n",
      "loss= 0.2164936512708664\n",
      "theta after ls 0.8320544312882703\n",
      "End of line search. Total line_search calc: 4\n",
      "loss= 0.2132238745689392\n",
      "theta after ls 0.8320544312882703\n",
      "End of line search. Total line_search calc: 1\n",
      "loss= 0.2101524919271469\n",
      "theta after ls 0.8320544312882703\n",
      "End of line search. Total line_search calc: 1\n",
      "loss= 0.20723749697208405\n",
      "theta after ls 0.8530476273772365\n",
      "End of line search. Total line_search calc: 4\n",
      "loss= 0.20468595623970032\n",
      "theta after ls 0.8530476273772365\n",
      "End of line search. Total line_search calc: 1\n",
      "loss= 0.2022346556186676\n",
      "theta after ls 0.8714166739550819\n",
      "End of line search. Total line_search calc: 4\n",
      "loss= 0.20006924867630005\n",
      "theta after ls 0.8714166739550819\n",
      "End of line search. Total line_search calc: 1\n",
      "loss= 0.19796372950077057\n",
      "theta after ls 0.8714166739550819\n",
      "End of line search. Total line_search calc: 1\n",
      "loss= 0.19589868187904358\n",
      "theta after ls 0.8874895897106967\n",
      "End of line search. Total line_search calc: 4\n",
      "loss= 0.19405467808246613\n",
      "theta after ls 0.8874895897106967\n",
      "End of line search. Total line_search calc: 1\n",
      "loss= 0.19224241375923157\n",
      "theta after ls 0.8874895897106967\n",
      "End of line search. Total line_search calc: 1\n",
      "loss= 0.19045650959014893\n",
      "theta after ls 0.8874895897106967\n",
      "End of line search. Total line_search calc: 1\n",
      "loss= 0.18869639933109283\n",
      "theta after ls 0.9015533909968596\n",
      "End of line search. Total line_search calc: 4\n",
      "loss= 0.1871337741613388\n",
      "theta after ls 0.9015533909968596\n",
      "End of line search. Total line_search calc: 1\n",
      "loss= 0.18560338020324707\n",
      "theta after ls 0.9015533909968596\n",
      "End of line search. Total line_search calc: 1\n",
      "loss= 0.1841064840555191\n",
      "theta after ls 0.9015533909968596\n",
      "End of line search. Total line_search calc: 1\n",
      "loss= 0.18264387547969818\n",
      "612.9642066955566\n"
     ]
    }
   ],
   "source": [
    "with torch.no_grad():\n",
    "    for i in range(len(list(model.parameters()))):\n",
    "        list(model.parameters())[i].zero_()\n",
    "        \n",
    "results_hyper = [] \n",
    "gamma = 0.1\n",
    "reg = False\n",
    "optimizer = opt.Hyperfast(model.parameters(), L = 4.)\n",
    "s1 = time.time()\n",
    "#with torch.autograd.profiler.profile() as prof:\n",
    "for epoch in range(int(epochs)):\n",
    "    for i, (images, labels) in enumerate(train_loader):\n",
    "        if i == 0:\n",
    "            image = Variable(images.view(-1, 28 * 28))\n",
    "            label = Variable(labels).fmod(2)\n",
    "            \n",
    "            def closure():\n",
    "                optimizer.zero_grad()\n",
    "                loss = criterion(model(image), label)\n",
    "                if reg == True:\n",
    "                    for i in range(len(list(model.parameters()))):\n",
    "                        loss += list(model.parameters())[i].square().sum().mul(gamma)\n",
    "\n",
    "                return loss\n",
    "                \n",
    "            loss = closure()\n",
    "            print('loss=', loss.item())\n",
    "            results_hyper.append(loss.item())\n",
    "            optimizer.step(closure)\n",
    "            \n",
    "loss = closure()\n",
    "print('loss=', loss.item())\n",
    "results_hyper.append(loss.item())\n",
    "s2 = time.time()\n",
    "print(s2-s1)\n"
   ]
  },
  {
   "cell_type": "code",
   "execution_count": 8,
   "metadata": {},
   "outputs": [
    {
     "name": "stdout",
     "output_type": "stream",
     "text": [
      "loss= 0.693132221698761\n",
      "loss= 0.4493096172809601\n",
      "loss= 0.35727572441101074\n",
      "loss= 0.3189184367656708\n",
      "loss= 0.2979542315006256\n",
      "loss= 0.28432682156562805\n",
      "loss= 0.27458834648132324\n",
      "loss= 0.2670246958732605\n",
      "loss= 0.26087677478790283\n",
      "loss= 0.25571519136428833\n",
      "loss= 0.25127771496772766\n",
      "loss= 0.247395321726799\n",
      "loss= 0.24395272135734558\n",
      "loss= 0.2408670336008072\n",
      "loss= 0.23807655274868011\n",
      "loss= 0.23553623259067535\n",
      "loss= 0.23320844769477844\n",
      "loss= 0.23106475174427032\n",
      "loss= 0.2290811389684677\n",
      "loss= 0.22723782062530518\n",
      "loss= 0.22551928460597992\n",
      "loss= 0.22391080856323242\n",
      "loss= 0.222400963306427\n",
      "loss= 0.22097930312156677\n",
      "loss= 0.21963845193386078\n",
      "loss= 0.21836921572685242\n",
      "loss= 0.2171657383441925\n",
      "loss= 0.21602219343185425\n",
      "loss= 0.21493373811244965\n",
      "loss= 0.21389496326446533\n",
      "loss= 0.2129029631614685\n",
      "327.1038181781769\n"
     ]
    }
   ],
   "source": [
    "with torch.no_grad():\n",
    "    for i in range(len(list(model.parameters()))):\n",
    "        list(model.parameters())[i].zero_()\n",
    "epochs_bdgm = 30    \n",
    "results_bdgm = []        \n",
    "gamma = 0.1\n",
    "reg = False\n",
    "optimizer = opt.BDGM(model.parameters(), L = 4.)\n",
    "s1 = time.time()\n",
    "#with torch.autograd.profiler.profile() as prof:\n",
    "for epoch in range(int(epochs_bdgm)):\n",
    "    for i, (images, labels) in enumerate(train_loader):\n",
    "        if i == 0:\n",
    "            image = Variable(images.view(-1, 28 * 28))\n",
    "            label = Variable(labels).fmod(2)\n",
    "            \n",
    "            def closure():\n",
    "                optimizer.zero_grad()\n",
    "                loss = criterion(model(image), label)\n",
    "                if reg == True:\n",
    "                    for i in range(len(list(model.parameters()))):\n",
    "                        loss += list(model.parameters())[i].square().sum().mul(gamma)\n",
    "\n",
    "                return loss\n",
    "                \n",
    "            loss = closure()\n",
    "            print('loss=', loss.item())\n",
    "            results_bdgm.append(loss.item())\n",
    "            optimizer.step(closure)\n",
    "            \n",
    "loss = closure()\n",
    "print('loss=', loss.item())\n",
    "results_bdgm.append(loss.item())\n",
    "s2 = time.time()\n",
    "print(s2-s1)"
   ]
  },
  {
   "cell_type": "code",
   "execution_count": 9,
   "metadata": {},
   "outputs": [
    {
     "data": {
      "text/plain": "[<matplotlib.lines.Line2D at 0x7fb08e9da3a0>]"
     },
     "execution_count": 9,
     "metadata": {},
     "output_type": "execute_result"
    },
    {
     "data": {
      "text/plain": "<Figure size 432x288 with 1 Axes>",
      "image/png": "[encoded data removed]"
     },
     "metadata": {
      "needs_background": "light"
     },
     "output_type": "display_data"
    }
   ],
   "source": [
    "plt.plot(torch.tensor(results_hyper[0:25]).sub(0.182).log(), 'b')\n",
    "plt.plot(torch.tensor(results_bdgm[0:25]).sub(0.182).log(), 'g')"
   ]
  },
  {
   "cell_type": "code",
   "execution_count": 10,
   "metadata": {},
   "outputs": [
    {
     "name": "stdout",
     "output_type": "stream",
     "text": [
      "loss= 0.693132221698761\n",
      "loss= 0.6214630007743835\n",
      "loss= 0.5705742239952087\n",
      "loss= 0.5330895781517029\n",
      "loss= 0.5046017169952393\n",
      "loss= 0.4823034107685089\n",
      "loss= 0.4644121527671814\n",
      "loss= 0.44970887899398804\n",
      "loss= 0.43737688660621643\n",
      "loss= 0.42684951424598694\n",
      "loss= 0.41773518919944763\n",
      "loss= 0.40975117683410645\n",
      "loss= 0.4026886820793152\n",
      "loss= 0.39638751745224\n",
      "loss= 0.3907228410243988\n",
      "loss= 0.3855980336666107\n",
      "loss= 0.3809341490268707\n",
      "loss= 0.37666839361190796\n",
      "loss= 0.3727480471134186\n",
      "loss= 0.3691293001174927\n",
      "loss= 0.36577680706977844\n",
      "loss= 0.3626595437526703\n",
      "loss= 0.3597525656223297\n",
      "loss= 0.3570311963558197\n",
      "loss= 0.3544793426990509\n",
      "loss= 0.3520795404911041\n",
      "loss= 0.34981653094291687\n",
      "loss= 0.347677618265152\n",
      "loss= 0.34565314650535583\n",
      "loss= 0.3437322676181793\n",
      "loss= 0.3419077396392822\n",
      "loss= 0.340170294046402\n",
      "loss= 0.33851274847984314\n",
      "loss= 0.336931437253952\n",
      "loss= 0.3354176878929138\n",
      "loss= 0.333968847990036\n",
      "loss= 0.33257871866226196\n",
      "loss= 0.33124515414237976\n",
      "loss= 0.32996249198913574\n",
      "loss= 0.3287299573421478\n",
      "loss= 0.3275408446788788\n",
      "loss= 0.3263948857784271\n",
      "loss= 0.32528823614120483\n",
      "loss= 0.3242201805114746\n",
      "loss= 0.3231886029243469\n",
      "loss= 0.32218828797340393\n",
      "loss= 0.321220725774765\n",
      "loss= 0.32028305530548096\n",
      "loss= 0.31937339901924133\n",
      "loss= 0.31848978996276855\n",
      "loss= 0.317632257938385\n",
      "loss= 0.31679898500442505\n",
      "loss= 0.31598806381225586\n",
      "loss= 0.31520044803619385\n",
      "loss= 0.3144329786300659\n",
      "loss= 0.3136851191520691\n",
      "loss= 0.3129560351371765\n",
      "loss= 0.31224536895751953\n",
      "loss= 0.3115520179271698\n",
      "loss= 0.3108752965927124\n",
      "loss= 0.3102147877216339\n",
      "loss= 0.30956992506980896\n",
      "loss= 0.30893826484680176\n",
      "loss= 0.30832144618034363\n",
      "loss= 0.30771809816360474\n",
      "loss= 0.3071273863315582\n",
      "loss= 0.3065491318702698\n",
      "loss= 0.3059832751750946\n",
      "loss= 0.3054279088973999\n",
      "loss= 0.3048855662345886\n",
      "loss= 0.3043520152568817\n",
      "298.5678880214691\n"
     ]
    }
   ],
   "source": [
    "with torch.no_grad():\n",
    "    for i in range(len(list(model.parameters()))):\n",
    "        list(model.parameters())[i].zero_()\n",
    "        \n",
    "results_f = []\n",
    "epochs_f = 70\n",
    "gamma = 0.1\n",
    "reg = False\n",
    "optimizer = torch.optim.SGD(model.parameters(), lr = 0.1)\n",
    "s1 = time.time()\n",
    "#with torch.autograd.profiler.profile() as prof:\n",
    "for epoch in range(int(epochs_f)):\n",
    "    for i, (images, labels) in enumerate(train_loader):\n",
    "        if i == 0:\n",
    "            image = Variable(images.view(-1, 28 * 28))\n",
    "            label = Variable(labels).fmod(2)\n",
    "            \n",
    "            def closure():\n",
    "                optimizer.zero_grad()\n",
    "                loss = criterion(model(image), label)\n",
    "                if reg == True:\n",
    "                    for i in range(len(list(model.parameters()))):\n",
    "                        loss += list(model.parameters())[i].square().sum().mul(gamma)\n",
    "\n",
    "                return loss\n",
    "                \n",
    "            loss = closure()\n",
    "            loss.backward()\n",
    "            print('loss=', loss.item())\n",
    "            results_f.append(loss.item())\n",
    "            optimizer.step()\n",
    "            \n",
    "loss = closure()\n",
    "print('loss=', loss.item())\n",
    "results_f.append(loss.item())\n",
    "s2 = time.time()\n",
    "print(s2-s1)"
   ]
  },
  {
   "cell_type": "code",
   "execution_count": 11,
   "metadata": {
    "pycharm": {
     "name": "#%%\n"
    }
   },
   "outputs": [
    {
     "data": {
      "text/plain": "[<matplotlib.lines.Line2D at 0x7fb0a8ad1370>]"
     },
     "execution_count": 11,
     "metadata": {},
     "output_type": "execute_result"
    },
    {
     "data": {
      "text/plain": "<Figure size 432x288 with 1 Axes>",
      "image/png": "[encoded data removed]"
     },
     "metadata": {
      "needs_background": "light"
     },
     "output_type": "display_data"
    }
   ],
   "source": [
    "plt.plot(torch.tensor(results_hyper), 'b')\n",
    "plt.plot(torch.tensor(results_bdgm), 'g')\n",
    "plt.plot(torch.tensor(results_f), 'r')\n"
   ]
  }
 ],
 "metadata": {
  "kernelspec": {
   "display_name": "Python 3",
   "language": "python",
   "name": "python3"
  },
  "language_info": {
   "codemirror_mode": {
    "name": "ipython",
    "version": 3
   },
   "file_extension": ".py",
   "mimetype": "text/x-python",
   "name": "python",
   "nbconvert_exporter": "python",
   "pygments_lexer": "ipython3",
   "version": "3.7.4"
  }
 },
 "nbformat": 4,
 "nbformat_minor": 2
}